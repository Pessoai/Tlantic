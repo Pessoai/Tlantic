{
 "cells": [
  {
   "cell_type": "code",
   "execution_count": 93,
   "metadata": {},
   "outputs": [],
   "source": [
    "import pandas as pd\n",
    "from sklearn.model_selection import train_test_split\n",
    "from sklearn.ensemble import GradientBoostingRegressor\n",
    "from sklearn.metrics import mean_squared_error, r2_score\n",
    "from sklearn.preprocessing import OneHotEncoder\n",
    "from sklearn.compose import ColumnTransformer\n",
    "from sklearn.pipeline import Pipeline"
   ]
  },
  {
   "cell_type": "code",
   "execution_count": 94,
   "metadata": {},
   "outputs": [],
   "source": [
    "data = pd.read_csv(\"data_set_final2.csv\", low_memory=False)"
   ]
  },
  {
   "cell_type": "code",
   "execution_count": 95,
   "metadata": {},
   "outputs": [],
   "source": [
    "data.drop(columns=['rolling_avg_DESCIDA_PRECO','rolling_avg_AUMENTO_PRECO','rolling_avg_SKUS_DOWN','rolling_avg_items','rolling_avg_sales','rolling_avg_SKUS_UP'], inplace=True)"
   ]
  },
  {
   "cell_type": "code",
   "execution_count": 102,
   "metadata": {},
   "outputs": [
    {
     "name": "stdout",
     "output_type": "stream",
     "text": [
      "Mean Squared Error: 814271493.9323468\n",
      "Mean Absolute Error: 3570.624270087065\n",
      "R-squared: 0.7885619855300134\n"
     ]
    }
   ],
   "source": [
    "# Ensure 'DATA_VENDA' is parsed as datetime\n",
    "data['DATA_VENDA'] = pd.to_datetime(data['DATA_VENDA'])\n",
    "\n",
    "# Create lag and rolling mean features\n",
    "data['lag_7'] = data.groupby('LOJA')['VALOR_VENDA'].shift(7)\n",
    "data['rolling_mean_15'] = data.groupby('LOJA')['VALOR_VENDA'].shift(1).rolling(window=15).mean()\n",
    "\n",
    "# Handle missing values\n",
    "data['lag_7'].fillna(0, inplace=True)\n",
    "data['rolling_mean_15'].fillna(data['rolling_mean_15'].mean(), inplace=True)\n",
    "\n",
    "# Identify categorical and numerical columns \n",
    "categorical_cols = ['LOJA','day_of_week']  # Modify as necessary\n",
    "numeric_cols = ['TOTAL_COLABORADORES', 'SKUS','PRODUTIVIDADE_HORA','SKUS_UP','SKUS_DOWN','ITEMS','SELF_CHECKOUT','lag_7', 'rolling_mean_15']\n",
    "\n",
    "# Preprocessing for categorical data: OneHotEncoding\n",
    "preprocessor = ColumnTransformer(\n",
    "    transformers=[\n",
    "        ('cat', OneHotEncoder(handle_unknown='ignore'), categorical_cols)\n",
    "    ])\n",
    "\n",
    "# Setup the pipeline \n",
    "model = Pipeline(steps=[\n",
    "    ('preprocessor', preprocessor),\n",
    "    ('regressor', GradientBoostingRegressor(random_state=42))\n",
    "])\n",
    "\n",
    "# Define features and target\n",
    "features = numeric_cols + categorical_cols  # Make sure this is updated if features change\n",
    "target = 'VALOR_VENDA'\n",
    "\n",
    "# Split the data\n",
    "X_train, X_test, y_train, y_test = train_test_split(data[features], data[target], test_size=0.2, random_state=42)\n",
    "\n",
    "# Fit the model\n",
    "model.fit(X_train, y_train)\n",
    "\n",
    "# Predict and evaluate\n",
    "y_pred = model.predict(X_test)\n",
    "mse = mean_squared_error(y_test, y_pred)\n",
    "r2 = r2_score(y_test, y_pred)\n",
    "\n",
    "print(f'Mean Squared Error: {mse}')\n",
    "print(f'Mean Absolute Error: {mae}')\n",
    "print(f'R-squared: {r2}')"
   ]
  },
  {
   "cell_type": "code",
   "execution_count": 103,
   "metadata": {},
   "outputs": [
    {
     "name": "stdout",
     "output_type": "stream",
     "text": [
      "Enter the store name: Gaia\n",
      "Predictions by day of the week: {'Friday': 69664.83591508378, 'Saturday': 69664.83591508378, 'Sunday': 69664.83591508378, 'Monday': 69664.83591508378, 'Tuesday': 69664.83591508378, 'Wednesday': 69664.83591508378, 'Thursday': 69664.83591508378}\n",
      "Historical averages by day of the week: {'Friday': 105794.19788461538, 'Monday': 93089.48211538464, 'Saturday': 134454.23088050314, 'Sunday': 99980.61012820514, 'Thursday': 93888.86512820514, 'Tuesday': 88534.497948718, 'Wednesday': 90208.81576923077}\n",
      "Differences from averages: {'Friday': -36129.3619695316, 'Saturday': -64789.39496541936, 'Sunday': -30315.77421312136, 'Monday': -23424.646200300864, 'Tuesday': -18869.662033634217, 'Wednesday': -20543.979854146994, 'Thursday': -24224.029213121365}\n"
     ]
    },
    {
     "name": "stderr",
     "output_type": "stream",
     "text": [
      "C:\\Users\\TeixeiJ\\Anaconda3\\lib\\site-packages\\sklearn\\compose\\_column_transformer.py:437: FutureWarning: Given feature/column names or counts do not match the ones for the data given during fit. This will fail from v0.24.\n",
      "  warnings.warn(\"Given feature/column names or counts do not match \"\n",
      "C:\\Users\\TeixeiJ\\Anaconda3\\lib\\site-packages\\sklearn\\compose\\_column_transformer.py:437: FutureWarning: Given feature/column names or counts do not match the ones for the data given during fit. This will fail from v0.24.\n",
      "  warnings.warn(\"Given feature/column names or counts do not match \"\n",
      "C:\\Users\\TeixeiJ\\Anaconda3\\lib\\site-packages\\sklearn\\compose\\_column_transformer.py:437: FutureWarning: Given feature/column names or counts do not match the ones for the data given during fit. This will fail from v0.24.\n",
      "  warnings.warn(\"Given feature/column names or counts do not match \"\n",
      "C:\\Users\\TeixeiJ\\Anaconda3\\lib\\site-packages\\sklearn\\compose\\_column_transformer.py:437: FutureWarning: Given feature/column names or counts do not match the ones for the data given during fit. This will fail from v0.24.\n",
      "  warnings.warn(\"Given feature/column names or counts do not match \"\n",
      "C:\\Users\\TeixeiJ\\Anaconda3\\lib\\site-packages\\sklearn\\compose\\_column_transformer.py:437: FutureWarning: Given feature/column names or counts do not match the ones for the data given during fit. This will fail from v0.24.\n",
      "  warnings.warn(\"Given feature/column names or counts do not match \"\n",
      "C:\\Users\\TeixeiJ\\Anaconda3\\lib\\site-packages\\sklearn\\compose\\_column_transformer.py:437: FutureWarning: Given feature/column names or counts do not match the ones for the data given during fit. This will fail from v0.24.\n",
      "  warnings.warn(\"Given feature/column names or counts do not match \"\n",
      "C:\\Users\\TeixeiJ\\Anaconda3\\lib\\site-packages\\sklearn\\compose\\_column_transformer.py:437: FutureWarning: Given feature/column names or counts do not match the ones for the data given during fit. This will fail from v0.24.\n",
      "  warnings.warn(\"Given feature/column names or counts do not match \"\n"
     ]
    }
   ],
   "source": [
    "def forecast_and_compare(store_name, model, data, features): \n",
    "    # Filter data for the specified store and sort by date\n",
    "    store_data = data[data['LOJA'] == store_name]\n",
    "    last_year = store_data['DATA_VENDA'].max().year - 1\n",
    "    historical_data = store_data[store_data['DATA_VENDA'].dt.year == last_year]\n",
    "\n",
    "    # Calculate historical weekly averages\n",
    "    weekly_averages = historical_data.groupby(historical_data['DATA_VENDA'].dt.day_name())['VALOR_VENDA'].mean().to_dict()\n",
    "\n",
    "    # Prepare forecast for each day of the week in the next 7 days\n",
    "    predictions = {}\n",
    "    current_date = pd.Timestamp.today()  # Assuming forecasting starts from today\n",
    "    for i in range(7):\n",
    "        forecast_date = current_date + pd.Timedelta(days=i)\n",
    "        day_of_week = forecast_date.day_name()\n",
    "        \n",
    "        # Simulate the necessary input for the model (ensure to match the preprocessor's expected format)\n",
    "        # For simplicity, let's assume last available data for other features\n",
    "        input_data = store_data.iloc[-1][features].copy()\n",
    "        input_data['DATA_VENDA'] = forecast_date  # Update the date\n",
    "        \n",
    "        # Adjust input format to match model's expectation\n",
    "        formatted_input = pd.DataFrame([input_data])\n",
    "        prediction = model.predict(formatted_input)[0]\n",
    "        \n",
    "        # Store prediction\n",
    "        predictions[day_of_week] = predictions.get(day_of_week, []) + [prediction]\n",
    "\n",
    "    # Average predictions for each day if multiple predictions exist\n",
    "    for day, values in predictions.items():\n",
    "        predictions[day] = sum(values) / len(values)\n",
    "\n",
    "    # Calculate differences from historical averages\n",
    "    differences = {day: predictions[day] - weekly_averages.get(day, 0) for day in predictions}\n",
    "\n",
    "    return predictions, weekly_averages, differences\n",
    "\n",
    "# Example usage\n",
    "store_name = input(\"Enter the store name: \")\n",
    "predictions, averages, differences = forecast_and_compare(store_name, model, data, features)\n",
    "print(\"Predictions by day of the week:\", predictions)\n",
    "print(\"Historical averages by day of the week:\", averages)\n",
    "print(\"Differences from averages:\", differences)"
   ]
  }
 ],
 "metadata": {
  "kernelspec": {
   "display_name": "Python 3",
   "language": "python",
   "name": "python3"
  },
  "language_info": {
   "codemirror_mode": {
    "name": "ipython",
    "version": 3
   },
   "file_extension": ".py",
   "mimetype": "text/x-python",
   "name": "python",
   "nbconvert_exporter": "python",
   "pygments_lexer": "ipython3",
   "version": "3.8.5"
  }
 },
 "nbformat": 4,
 "nbformat_minor": 4
}
