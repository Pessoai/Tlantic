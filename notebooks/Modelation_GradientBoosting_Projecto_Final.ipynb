{
 "cells": [
  {
   "cell_type": "code",
   "execution_count": 120,
   "metadata": {},
   "outputs": [],
   "source": [
    "import pandas as pd\n",
    "from sklearn.model_selection import train_test_split\n",
    "from sklearn.ensemble import GradientBoostingRegressor\n",
    "from sklearn.metrics import mean_squared_error, r2_score\n",
    "from sklearn.preprocessing import OneHotEncoder\n",
    "from sklearn.compose import ColumnTransformer\n",
    "from sklearn.pipeline import Pipeline"
   ]
  },
  {
   "cell_type": "code",
   "execution_count": 121,
   "metadata": {},
   "outputs": [],
   "source": [
    "data = pd.read_csv(\"data_set_final2.csv\", low_memory=False)"
   ]
  },
  {
   "cell_type": "code",
   "execution_count": 122,
   "metadata": {},
   "outputs": [],
   "source": [
    "data.drop(columns=['rolling_avg_DESCIDA_PRECO','rolling_avg_AUMENTO_PRECO','rolling_avg_SKUS_DOWN','rolling_avg_items','rolling_avg_sales','rolling_avg_SKUS_UP'], inplace=True)"
   ]
  },
  {
   "cell_type": "code",
   "execution_count": 123,
   "metadata": {},
   "outputs": [
    {
     "name": "stdout",
     "output_type": "stream",
     "text": [
      "Mean Squared Error: 117322083.85925715\n",
      "Mean Absolute Error: 3441.710358670849\n",
      "R-squared: 0.9695355312699383\n"
     ]
    }
   ],
   "source": [
    "# Ensure 'DATA_VENDA' is parsed as datetime\n",
    "data['DATA_VENDA'] = pd.to_datetime(data['DATA_VENDA'])\n",
    "data['day_of_week'] = data['DATA_VENDA'].dt.day_name()\n",
    "\n",
    "# Create lag and rolling mean features\n",
    "data['lag_7'] = data.groupby('LOJA')['VALOR_VENDA'].shift(7)\n",
    "data['rolling_mean_15'] = data.groupby('LOJA')['VALOR_VENDA'].shift(1).rolling(window=15).mean()\n",
    "\n",
    "# Handle missing values\n",
    "data['lag_7'].fillna(0, inplace=True)\n",
    "data['rolling_mean_15'].fillna(data['rolling_mean_15'].mean(), inplace=True)\n",
    "\n",
    "# Identify categorical and numerical columns \n",
    "categorical_cols = ['LOJA','day_of_week']  # Modify as necessary\n",
    "numeric_cols = ['TOTAL_COLABORADORES', 'SKUS','PRODUTIVIDADE_HORA','SKUS_UP','SKUS_DOWN','ITEMS','SELF_CHECKOUT','lag_7', 'rolling_mean_15']\n",
    "\n",
    "# Preprocessing for categorical data: OneHotEncoding\n",
    "preprocessor = ColumnTransformer(\n",
    "    transformers=[\n",
    "        ('cat', OneHotEncoder(handle_unknown='ignore'), categorical_cols),\n",
    "        ('num', 'passthrough', numeric_cols)  # Ensure numeric columns are passed through if not scaled\n",
    "    ])\n",
    "\n",
    "# Setup the pipeline \n",
    "model = Pipeline([\n",
    "    ('preprocessor', preprocessor),\n",
    "    ('regressor', GradientBoostingRegressor(random_state=42))\n",
    "])\n",
    "\n",
    "# Define features and target\n",
    "features = numeric_cols + categorical_cols  # Make sure this is updated if features change\n",
    "target = 'VALOR_VENDA'\n",
    "\n",
    "# Split the data\n",
    "X_train, X_test, y_train, y_test = train_test_split(data[features], data[target], test_size=0.2, random_state=42)\n",
    "\n",
    "# Fit the model\n",
    "model.fit(X_train, y_train)\n",
    "\n",
    "# Predict and evaluate\n",
    "y_pred = model.predict(X_test)\n",
    "mse = mean_squared_error(y_test, y_pred)\n",
    "r2 = r2_score(y_test, y_pred)\n",
    "mae = mean_absolute_error(y_test, y_pred)\n",
    "\n",
    "print(f'Mean Squared Error: {mse}')\n",
    "print(f'Mean Absolute Error: {mae}')\n",
    "print(f'R-squared: {r2}')"
   ]
  },
  {
   "cell_type": "code",
   "execution_count": 124,
   "metadata": {},
   "outputs": [
    {
     "name": "stdout",
     "output_type": "stream",
     "text": [
      "Enter the store name: Gaia\n",
      "Predictions by day of the week: {'Friday': 108914.23404219572, 'Saturday': 109647.47661970889, 'Sunday': 108914.23404219572, 'Monday': 102796.64915854327, 'Tuesday': 108914.23404219572, 'Wednesday': 108914.23404219572, 'Thursday': 108914.23404219572}\n",
      "Historical averages by day of the week: {'Friday': 105794.19788461538, 'Monday': 93089.48211538464, 'Saturday': 134454.23088050314, 'Sunday': 99980.61012820514, 'Thursday': 93888.86512820514, 'Tuesday': 88534.497948718, 'Wednesday': 90208.81576923077}\n",
      "Differences from averages: {'Friday': 3120.03615758034, 'Saturday': -24806.754260794245, 'Sunday': 8933.623913990581, 'Monday': 9707.167043158624, 'Tuesday': 20379.736093477724, 'Wednesday': 18705.418272964947, 'Thursday': 15025.368913990576}\n"
     ]
    },
    {
     "name": "stderr",
     "output_type": "stream",
     "text": [
      "C:\\Users\\TeixeiJ\\Anaconda3\\lib\\site-packages\\sklearn\\compose\\_column_transformer.py:437: FutureWarning: Given feature/column names or counts do not match the ones for the data given during fit. This will fail from v0.24.\n",
      "  warnings.warn(\"Given feature/column names or counts do not match \"\n",
      "C:\\Users\\TeixeiJ\\Anaconda3\\lib\\site-packages\\sklearn\\compose\\_column_transformer.py:437: FutureWarning: Given feature/column names or counts do not match the ones for the data given during fit. This will fail from v0.24.\n",
      "  warnings.warn(\"Given feature/column names or counts do not match \"\n",
      "C:\\Users\\TeixeiJ\\Anaconda3\\lib\\site-packages\\sklearn\\compose\\_column_transformer.py:437: FutureWarning: Given feature/column names or counts do not match the ones for the data given during fit. This will fail from v0.24.\n",
      "  warnings.warn(\"Given feature/column names or counts do not match \"\n",
      "C:\\Users\\TeixeiJ\\Anaconda3\\lib\\site-packages\\sklearn\\compose\\_column_transformer.py:437: FutureWarning: Given feature/column names or counts do not match the ones for the data given during fit. This will fail from v0.24.\n",
      "  warnings.warn(\"Given feature/column names or counts do not match \"\n",
      "C:\\Users\\TeixeiJ\\Anaconda3\\lib\\site-packages\\sklearn\\compose\\_column_transformer.py:437: FutureWarning: Given feature/column names or counts do not match the ones for the data given during fit. This will fail from v0.24.\n",
      "  warnings.warn(\"Given feature/column names or counts do not match \"\n",
      "C:\\Users\\TeixeiJ\\Anaconda3\\lib\\site-packages\\sklearn\\compose\\_column_transformer.py:437: FutureWarning: Given feature/column names or counts do not match the ones for the data given during fit. This will fail from v0.24.\n",
      "  warnings.warn(\"Given feature/column names or counts do not match \"\n",
      "C:\\Users\\TeixeiJ\\Anaconda3\\lib\\site-packages\\sklearn\\compose\\_column_transformer.py:437: FutureWarning: Given feature/column names or counts do not match the ones for the data given during fit. This will fail from v0.24.\n",
      "  warnings.warn(\"Given feature/column names or counts do not match \"\n"
     ]
    }
   ],
   "source": [
    "def forecast_and_compare(store_name, model, data, features):\n",
    "    # Filter data for the specified store and sort by date\n",
    "    store_data = data[data['LOJA'] == store_name].sort_values(by='DATA_VENDA')\n",
    "    if store_data.empty:\n",
    "        print(\"No data available for the specified store.\")\n",
    "        return {}, {}, {}\n",
    "    \n",
    "    # Find the last year of data available for the store\n",
    "    last_year = store_data['DATA_VENDA'].dt.year.max() - 1\n",
    "    historical_data = store_data[store_data['DATA_VENDA'].dt.year == last_year]\n",
    "\n",
    "    # Calculate historical weekly averages\n",
    "    weekly_averages = historical_data.groupby(historical_data['DATA_VENDA'].dt.day_name())['VALOR_VENDA'].mean().to_dict()\n",
    "\n",
    "    # Prepare forecast for each day of the week in the next 7 days\n",
    "    predictions = {}\n",
    "    current_date = pd.Timestamp.today()  # Starting point for forecasting\n",
    "    for i in range(7):\n",
    "        forecast_date = current_date + pd.Timedelta(days=i)\n",
    "        day_of_week = forecast_date.day_name()\n",
    "        \n",
    "        # Simulate the necessary input for the model ensuring the format matches training expectations\n",
    "        input_data = store_data.iloc[-1][features].copy()  # Take the last available features\n",
    "        input_data['DATA_VENDA'] = forecast_date  # Update the date for the forecast\n",
    "        \n",
    "        # Create a DataFrame from input data to match the model's expected input format\n",
    "        formatted_input = pd.DataFrame([input_data])\n",
    "        \n",
    "        # Ensure categorical and date data is processed, if necessary\n",
    "        # This line needs customization based on how 'day_of_week' is treated in your model training\n",
    "        formatted_input['day_of_week'] = day_of_week\n",
    "        \n",
    "        # Predict using the model\n",
    "        prediction = model.predict(formatted_input)[0]\n",
    "        \n",
    "        # Store prediction for each day\n",
    "        predictions[day_of_week] = predictions.get(day_of_week, []) + [prediction]\n",
    "\n",
    "    # Average predictions for each day if multiple predictions exist\n",
    "    for day, values in predictions.items():\n",
    "        predictions[day] = sum(values) / len(values)\n",
    "\n",
    "    # Calculate differences from historical averages\n",
    "    differences = {day: predictions[day] - weekly_averages.get(day, 0) for day in predictions}\n",
    "\n",
    "    return predictions, weekly_averages, differences\n",
    "\n",
    "# Example usage\n",
    "store_name = input(\"Enter the store name: \")  # Get store name input\n",
    "predictions, averages, differences = forecast_and_compare(store_name, model, data, features)\n",
    "print(\"Predictions by day of the week:\", predictions)\n",
    "print(\"Historical averages by day of the week:\", averages)\n",
    "print(\"Differences from averages:\", differences)"
   ]
  },
  {
   "cell_type": "code",
   "execution_count": 125,
   "metadata": {},
   "outputs": [
    {
     "ename": "NameError",
     "evalue": "name 'store_data' is not defined",
     "output_type": "error",
     "traceback": [
      "\u001b[1;31m---------------------------------------------------------------------------\u001b[0m",
      "\u001b[1;31mNameError\u001b[0m                                 Traceback (most recent call last)",
      "\u001b[1;32m<ipython-input-125-ae299520bac3>\u001b[0m in \u001b[0;36m<module>\u001b[1;34m\u001b[0m\n\u001b[0;32m      1\u001b[0m \u001b[1;31m# Before predicting, ensure that the input data frame is prepared correctly\u001b[0m\u001b[1;33m\u001b[0m\u001b[1;33m\u001b[0m\u001b[1;33m\u001b[0m\u001b[0m\n\u001b[1;32m----> 2\u001b[1;33m \u001b[0minput_data\u001b[0m \u001b[1;33m=\u001b[0m \u001b[0mstore_data\u001b[0m\u001b[1;33m.\u001b[0m\u001b[0miloc\u001b[0m\u001b[1;33m[\u001b[0m\u001b[1;33m-\u001b[0m\u001b[1;36m1\u001b[0m\u001b[1;33m]\u001b[0m\u001b[1;33m[\u001b[0m\u001b[0mfeatures\u001b[0m\u001b[1;33m]\u001b[0m\u001b[1;33m.\u001b[0m\u001b[0mto_dict\u001b[0m\u001b[1;33m(\u001b[0m\u001b[1;33m)\u001b[0m\u001b[1;33m\u001b[0m\u001b[1;33m\u001b[0m\u001b[0m\n\u001b[0m\u001b[0;32m      3\u001b[0m \u001b[0minput_data\u001b[0m\u001b[1;33m[\u001b[0m\u001b[1;34m'DATA_VENDA'\u001b[0m\u001b[1;33m]\u001b[0m \u001b[1;33m=\u001b[0m \u001b[0mforecast_date\u001b[0m  \u001b[1;31m# Simulate 'DATA_VENDA' if used in the model\u001b[0m\u001b[1;33m\u001b[0m\u001b[1;33m\u001b[0m\u001b[0m\n\u001b[0;32m      4\u001b[0m \u001b[1;33m\u001b[0m\u001b[0m\n\u001b[0;32m      5\u001b[0m \u001b[1;31m# Convert to DataFrame\u001b[0m\u001b[1;33m\u001b[0m\u001b[1;33m\u001b[0m\u001b[1;33m\u001b[0m\u001b[0m\n",
      "\u001b[1;31mNameError\u001b[0m: name 'store_data' is not defined"
     ]
    }
   ],
   "source": [
    "# Before predicting, ensure that the input data frame is prepared correctly\n",
    "input_data = store_data.iloc[-1][features].to_dict()\n",
    "input_data['DATA_VENDA'] = forecast_date  # Simulate 'DATA_VENDA' if used in the model\n",
    "\n",
    "# Convert to DataFrame\n",
    "formatted_input = pd.DataFrame([input_data])\n",
    "# Make sure that this DataFrame formatted_input has the same structure as the training data"
   ]
  },
  {
   "cell_type": "code",
   "execution_count": 126,
   "metadata": {},
   "outputs": [
    {
     "name": "stdout",
     "output_type": "stream",
     "text": [
      "Feature names: ['TOTAL_COLABORADORES', 'SKUS', 'PRODUTIVIDADE_HORA', 'SKUS_UP', 'SKUS_DOWN', 'ITEMS', 'SELF_CHECKOUT', 'lag_7', 'rolling_mean_15', 'LOJA', 'day_of_week']\n",
      "X_train columns before fitting model: ['TOTAL_COLABORADORES', 'SKUS', 'PRODUTIVIDADE_HORA', 'SKUS_UP', 'SKUS_DOWN', 'ITEMS', 'SELF_CHECKOUT', 'lag_7', 'rolling_mean_15', 'LOJA', 'day_of_week']\n"
     ]
    },
    {
     "ename": "NameError",
     "evalue": "name 'formatted_input' is not defined",
     "output_type": "error",
     "traceback": [
      "\u001b[1;31m---------------------------------------------------------------------------\u001b[0m",
      "\u001b[1;31mNameError\u001b[0m                                 Traceback (most recent call last)",
      "\u001b[1;32m<ipython-input-126-26db217577a4>\u001b[0m in \u001b[0;36m<module>\u001b[1;34m\u001b[0m\n\u001b[0;32m      2\u001b[0m \u001b[0mprint\u001b[0m\u001b[1;33m(\u001b[0m\u001b[1;34m\"Feature names:\"\u001b[0m\u001b[1;33m,\u001b[0m \u001b[0mfeatures\u001b[0m\u001b[1;33m)\u001b[0m\u001b[1;33m\u001b[0m\u001b[1;33m\u001b[0m\u001b[0m\n\u001b[0;32m      3\u001b[0m \u001b[0mprint\u001b[0m\u001b[1;33m(\u001b[0m\u001b[1;34m\"X_train columns before fitting model:\"\u001b[0m\u001b[1;33m,\u001b[0m \u001b[0mX_train\u001b[0m\u001b[1;33m.\u001b[0m\u001b[0mcolumns\u001b[0m\u001b[1;33m.\u001b[0m\u001b[0mtolist\u001b[0m\u001b[1;33m(\u001b[0m\u001b[1;33m)\u001b[0m\u001b[1;33m)\u001b[0m\u001b[1;33m\u001b[0m\u001b[1;33m\u001b[0m\u001b[0m\n\u001b[1;32m----> 4\u001b[1;33m \u001b[0mprint\u001b[0m\u001b[1;33m(\u001b[0m\u001b[1;34m\"Formatted input columns before prediction:\"\u001b[0m\u001b[1;33m,\u001b[0m \u001b[0mformatted_input\u001b[0m\u001b[1;33m.\u001b[0m\u001b[0mcolumns\u001b[0m\u001b[1;33m.\u001b[0m\u001b[0mtolist\u001b[0m\u001b[1;33m(\u001b[0m\u001b[1;33m)\u001b[0m\u001b[1;33m)\u001b[0m\u001b[1;33m\u001b[0m\u001b[1;33m\u001b[0m\u001b[0m\n\u001b[0m",
      "\u001b[1;31mNameError\u001b[0m: name 'formatted_input' is not defined"
     ]
    }
   ],
   "source": [
    "# Example debug print statements\n",
    "print(\"Feature names:\", features)\n",
    "print(\"X_train columns before fitting model:\", X_train.columns.tolist())\n",
    "print(\"Formatted input columns before prediction:\", formatted_input.columns.tolist())"
   ]
  },
  {
   "cell_type": "code",
   "execution_count": null,
   "metadata": {},
   "outputs": [],
   "source": []
  },
  {
   "cell_type": "code",
   "execution_count": null,
   "metadata": {},
   "outputs": [],
   "source": []
  }
 ],
 "metadata": {
  "kernelspec": {
   "display_name": "Python 3",
   "language": "python",
   "name": "python3"
  },
  "language_info": {
   "codemirror_mode": {
    "name": "ipython",
    "version": 3
   },
   "file_extension": ".py",
   "mimetype": "text/x-python",
   "name": "python",
   "nbconvert_exporter": "python",
   "pygments_lexer": "ipython3",
   "version": "3.8.5"
  }
 },
 "nbformat": 4,
 "nbformat_minor": 4
}
