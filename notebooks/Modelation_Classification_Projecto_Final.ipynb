{
 "cells": [
  {
   "cell_type": "code",
   "execution_count": 1,
   "metadata": {},
   "outputs": [],
   "source": [
    "import pandas as pd\n",
    "from sklearn.model_selection import train_test_split \n",
    "from sklearn.ensemble import RandomForestClassifier\n",
    "from sklearn.metrics import accuracy_score, classification_report\n",
    "import numpy as np\n",
    "from sklearn.preprocessing import OneHotEncoder\n",
    "import matplotlib.pyplot as plt\n",
    "from sklearn.compose import ColumnTransformer\n",
    "from sklearn.pipeline import Pipeline"
   ]
  },
  {
   "cell_type": "code",
   "execution_count": 2,
   "metadata": {},
   "outputs": [],
   "source": [
    "data = pd.read_csv(\"data_set_final2.csv\", low_memory=False)"
   ]
  },
  {
   "cell_type": "code",
   "execution_count": 3,
   "metadata": {},
   "outputs": [],
   "source": [
    "data.drop(columns=['rolling_avg_DESCIDA_PRECO','rolling_avg_AUMENTO_PRECO','rolling_avg_SKUS_DOWN','rolling_avg_items','rolling_avg_sales','rolling_avg_SKUS_UP'], inplace=True)"
   ]
  },
  {
   "cell_type": "code",
   "execution_count": 4,
   "metadata": {},
   "outputs": [
    {
     "name": "stdout",
     "output_type": "stream",
     "text": [
      "Accuracy: 0.7629589095612377\n",
      "Classification Report:\n",
      "              precision    recall  f1-score   support\n",
      "\n",
      "       above       0.81      0.70      0.75      5437\n",
      "       below       0.80      0.67      0.73      4674\n",
      "     similar       0.73      0.84      0.78      9991\n",
      "\n",
      "    accuracy                           0.76     20102\n",
      "   macro avg       0.78      0.74      0.75     20102\n",
      "weighted avg       0.77      0.76      0.76     20102\n",
      "\n"
     ]
    }
   ],
   "source": [
    "data['DATA_VENDA'] = pd.to_datetime(data['DATA_VENDA'])\n",
    "\n",
    "# Calculate day of the week and median sales\n",
    "data['day_of_week'] = data['DATA_VENDA'].dt.day_name()\n",
    "median_sales = data.groupby(['LOJA', 'day_of_week'])['VALOR_VENDA'].median().reset_index()\n",
    "median_sales.rename(columns={'VALOR_VENDA': 'median_sales'}, inplace=True)\n",
    "data = pd.merge(data, median_sales, on=['LOJA', 'day_of_week'], how='left')\n",
    "\n",
    "# Define the target categories based on median sales\n",
    "def classify_sales(row):\n",
    "    if row['VALOR_VENDA'] > row['median_sales'] * 1.1:\n",
    "        return 'above'\n",
    "    elif row['VALOR_VENDA'] < row['median_sales'] * 0.9:\n",
    "        return 'below'\n",
    "    else:\n",
    "        return 'similar'\n",
    "\n",
    "data['sales_category'] = data.apply(classify_sales, axis=1)\n",
    "\n",
    "# Create lag and rolling mean features\n",
    "data['lag_7'] = data.groupby('LOJA')['VALOR_VENDA'].shift(7)\n",
    "data['rolling_mean_15'] = data.groupby('LOJA')['VALOR_VENDA'].shift(1).rolling(window=15).mean()\n",
    "\n",
    "# Handle missing values\n",
    "data['lag_7'].fillna(0, inplace=True)\n",
    "data['rolling_mean_15'].fillna(data['rolling_mean_15'].mean(), inplace=True)\n",
    "\n",
    "# Select specific features to include\n",
    "selected_categorical_cols = ['LOJA','day_of_week']  # Example: Include only 'day_of_week' and 'LOJA'\n",
    "numeric_cols = ['TOTAL_COLABORADORES', 'SKUS','PRODUTIVIDADE_HORA','SKUS_UP','SKUS_DOWN','ITEMS','SELF_CHECKOUT','lag_7', 'rolling_mean_15']  # Example selected numeric features\n",
    "\n",
    "# Setup the ColumnTransformer with OneHotEncoder for selected categorical data\n",
    "preprocessor = ColumnTransformer(\n",
    "    transformers=[\n",
    "        ('cat', OneHotEncoder(handle_unknown='ignore'), selected_categorical_cols),\n",
    "        ('num', 'passthrough', numeric_cols)\n",
    "    ])\n",
    "\n",
    "# Create a pipeline with preprocessing and the classifier\n",
    "pipeline = Pipeline([\n",
    "    ('preprocessor', preprocessor),\n",
    "    ('classifier', RandomForestClassifier(random_state=42))\n",
    "])\n",
    "\n",
    "# Prepare features and target\n",
    "features = selected_categorical_cols + numeric_cols\n",
    "X = data[features]\n",
    "y = data['sales_category']\n",
    "X_train, X_test, y_train, y_test = train_test_split(X, y, test_size=0.2, random_state=42)\n",
    "\n",
    "# Train the model using the pipeline\n",
    "pipeline.fit(X_train, y_train)\n",
    "\n",
    "# Make predictions and evaluate\n",
    "y_pred = pipeline.predict(X_test)\n",
    "accuracy = accuracy_score(y_test, y_pred)\n",
    "class_report = classification_report(y_test, y_pred)\n",
    "\n",
    "print('Accuracy:', accuracy)\n",
    "print('Classification Report:')\n",
    "print(class_report)"
   ]
  },
  {
   "cell_type": "code",
   "execution_count": null,
   "metadata": {},
   "outputs": [],
   "source": []
  }
 ],
 "metadata": {
  "kernelspec": {
   "display_name": "Python 3",
   "language": "python",
   "name": "python3"
  },
  "language_info": {
   "codemirror_mode": {
    "name": "ipython",
    "version": 3
   },
   "file_extension": ".py",
   "mimetype": "text/x-python",
   "name": "python",
   "nbconvert_exporter": "python",
   "pygments_lexer": "ipython3",
   "version": "3.8.5"
  }
 },
 "nbformat": 4,
 "nbformat_minor": 4
}
